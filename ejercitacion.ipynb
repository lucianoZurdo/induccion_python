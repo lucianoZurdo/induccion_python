{
  "nbformat": 4,
  "nbformat_minor": 0,
  "metadata": {
    "colab": {
      "name": "ejercitacion.ipynb",
      "provenance": [],
      "authorship_tag": "ABX9TyNwjUi7ZZGTfz0ctIHl1+2Y",
      "include_colab_link": true
    },
    "kernelspec": {
      "name": "python3",
      "display_name": "Python 3"
    },
    "language_info": {
      "name": "python"
    }
  },
  "cells": [
    {
      "cell_type": "markdown",
      "metadata": {
        "id": "view-in-github",
        "colab_type": "text"
      },
      "source": [
        "<a href=\"https://colab.research.google.com/github/lucianoZurdo/induccion_python/blob/main/ejercitacion.ipynb\" target=\"_parent\"><img src=\"https://colab.research.google.com/assets/colab-badge.svg\" alt=\"Open In Colab\"/></a>"
      ]
    },
    {
      "cell_type": "markdown",
      "source": [
        "# Capacitación 1"
      ],
      "metadata": {
        "id": "-KQW6Cy0-3Ow"
      }
    },
    {
      "cell_type": "markdown",
      "source": [
        "## Nivel inicial - variables, bloques if"
      ],
      "metadata": {
        "id": "NKYwZ3nR--_u"
      }
    },
    {
      "cell_type": "markdown",
      "source": [
        "1 - Declare 4 variables, una que sea diccionario, otra que sea una lista, otra que sea una palabra y por ultimo un número.\n",
        "\n",
        "`Ejemplo: a = False `"
      ],
      "metadata": {
        "id": "t9Wf2wN6_L_F"
      }
    },
    {
      "cell_type": "code",
      "execution_count": null,
      "metadata": {
        "id": "CtEU-vtr-1nb"
      },
      "outputs": [],
      "source": [
        "# Escribir codigo aqui"
      ]
    },
    {
      "cell_type": "markdown",
      "source": [
        "2 - Tome las variables creadas anteriormente y agregue dos elementos nuevos a la lista creada y también al diccionario, pueden ser elementos del tipo que ustedes deseen.\n",
        "\n",
        "Ejemplo:\n",
        "Si la lista antes era `[1,2,3,4]` ahora será que ser `[1,2,3,4,5]`"
      ],
      "metadata": {
        "id": "J01YMnu1_iV-"
      }
    },
    {
      "cell_type": "code",
      "source": [
        "# Escribir codigo aquí"
      ],
      "metadata": {
        "id": "BuReXlu8_qz-"
      },
      "execution_count": null,
      "outputs": []
    },
    {
      "cell_type": "markdown",
      "source": [
        "3 - Cree una nueva variable de tipo numérica y multipliquelá con la variable creada anteriormente, el resultado de esto deberá quedar almancenada en una nueva variable\n",
        "\n",
        "Ejemplo: si teniamos una variable llamada `k = 5` ahora hacemos una llamada `otra_variable = 45` multiplicamos ambas y la nueva variable será `otra_variable_nueva = 225`"
      ],
      "metadata": {
        "id": "LJztYQRTAJSG"
      }
    },
    {
      "cell_type": "code",
      "source": [
        "# Escribir codigo aquí"
      ],
      "metadata": {
        "id": "JWBayucdAokm"
      },
      "execution_count": null,
      "outputs": []
    },
    {
      "cell_type": "markdown",
      "source": [
        "4 - Del siguiente diccionario:\n",
        "`diccionario = {'clave_1' : 'valor_1','clave_2' : 'valor_2','clave_3' : 'valor_3'}`\n",
        "Escriba un codigo para imprimir en pantalla **SOLO** el valor correspondiente a la clave 'valor_2'"
      ],
      "metadata": {
        "id": "V6R75rdcAplp"
      }
    },
    {
      "cell_type": "code",
      "source": [
        "diccionario = {'clave_1' : 'valor_1','clave_2' : 'valor_2','clave_3' : 'valor_3'}\n",
        "\n",
        "# Escribir codigo aquí"
      ],
      "metadata": {
        "id": "iVzqkCX3BLYn"
      },
      "execution_count": null,
      "outputs": []
    },
    {
      "cell_type": "markdown",
      "source": [
        "5 - Investigar como transformar dos listas en un diccionario (esto en la jerga se suele llamar \"cast\" se refiere a el pasaje de una variable de cierto tipo a otro tipo y es muy muy util para poder jugar con logicas y funciones especificas de cada tipo de variable.\n",
        "\n",
        "El objetivo es transformar las siguientes dos listas en un diccionario.\n",
        "\n",
        "\n",
        "\n",
        "---\n",
        "\n",
        "\n",
        "\n",
        "Pista | spoiler : buscar info sobre funcion zip y dict"
      ],
      "metadata": {
        "id": "HBJK-TWMBQTH"
      }
    },
    {
      "cell_type": "code",
      "source": [
        "universidades = ['Universidad de Córdoba',\n",
        "                 'Universidad de Buenos Aires',\n",
        "                 'Universidad de Tucumán',\n",
        "                 'Universidad Nacional de La Plata',\n",
        "                 'Universidad de Santa Fe'];\n",
        "\n",
        "anios         = [1613,1821,1875,1889,1889];\n",
        "\n",
        "# Escribir codigo aquí"
      ],
      "metadata": {
        "id": "uT4h0NtuCEBv"
      },
      "execution_count": null,
      "outputs": []
    },
    {
      "cell_type": "markdown",
      "source": [
        "6 - Investigar metodos de string para transformar la siguiente cadena `texto = 'hola ssoy unvv textooo mediu mail escrito ssva'` el texto deberá quedar de la siguiente forma `'hola soy un texto medio mal escrito'`.\n",
        "\n",
        "Al texto corregido finalmente deberemos separarlo por palabras y ponerlas en una lista, deberá quedar asi:\n",
        "\n",
        "`['hola', 'soy', 'un', 'texto', 'medio', 'mal', 'escrito']`\n",
        "\n",
        "**PISTA SPOILER**: replace, split"
      ],
      "metadata": {
        "id": "6MKmsX_vEBpG"
      }
    },
    {
      "cell_type": "code",
      "source": [
        "texto = 'hola ssoy unvv textooo mediu mail escrito ssva'\n",
        "\n",
        "# Escribir codigo aquí"
      ],
      "metadata": {
        "colab": {
          "base_uri": "https://localhost:8080/"
        },
        "id": "YSlYKVfmE0JJ",
        "outputId": "7e192a42-aaf4-44b4-e75f-ec29e34ad4a3"
      },
      "execution_count": null,
      "outputs": [
        {
          "output_type": "stream",
          "name": "stdout",
          "text": [
            "['hola', 'soy', 'un', 'texto', 'medio', 'mal', 'escrito']\n"
          ]
        }
      ]
    },
    {
      "cell_type": "markdown",
      "source": [
        "7 - Investigar el metodo de listas que ordena a sus items dentro para ordenar la siguiente lista:\n",
        "\n",
        "\n",
        "```\n",
        "Lista = [0.44014669 0.71721314 0.15084702 0.4595424  0.19958302 0.74875552\n",
        " 0.4655419  0.81942362 0.07505198 0.75669556 0.97274146 0.29728609\n",
        " 0.208525   0.02116382 0.40441313 0.07534201 0.84314407 0.0766492\n",
        " 0.7887239  0.58794276]\n",
        "```\n",
        "\n",
        "Luego imprimir en pantalla el resultado\n",
        "\n",
        "\n"
      ],
      "metadata": {
        "id": "pAKJq8deM41x"
      }
    },
    {
      "cell_type": "code",
      "source": [
        "Lista = [0.44014669, 0.71721314, 0.15084702, 0.4595424,  0.19958302, 0.74875552,\n",
        " 0.4655419,  0.81942362, 0.07505198, 0.75669556, 0.97274146, 0.29728609,\n",
        " 0.208525,   0.02116382, 0.40441313, 0.07534201, 0.84314407, 0.0766492,\n",
        " 0.7887239,  0.58794276]\n",
        " \n",
        "# Escribir codigo aquí"
      ],
      "metadata": {
        "id": "uJvKBmQKuUvw"
      },
      "execution_count": 20,
      "outputs": []
    },
    {
      "cell_type": "markdown",
      "source": [
        "8 - Una parte importante de la programacion es la comparacion de cosas y las condiciones logicas, los if son herramientas que nos sirven para saber cuando decidir si hacer algo o no, por ejemplo:\n"
      ],
      "metadata": {
        "id": "gFH1VNWj-klJ"
      }
    },
    {
      "cell_type": "code",
      "source": [
        "palabra = 'Auto'                                 # Asignamos la variable\n",
        "if len('casa') == len(palabra):                  # Creamos el if\n",
        "  print('las palabras tienen el mismo largo')    # Le decimos que hacer si la afirmacion es verdadera\n",
        "else:\n",
        "  print('las palabras no tienen el mismo largo') # Le decimos que hacer si la afirmacion es falsa"
      ],
      "metadata": {
        "colab": {
          "base_uri": "https://localhost:8080/"
        },
        "id": "4_jeWY2R-ttg",
        "outputId": "abd549e8-34d4-40a3-cdd6-1dab1346a311"
      },
      "execution_count": 19,
      "outputs": [
        {
          "output_type": "stream",
          "name": "stdout",
          "text": [
            "las palabras tienen el mismo largo\n"
          ]
        }
      ]
    },
    {
      "cell_type": "markdown",
      "source": [
        "De esta manera podemos ver que solo ha impreso en pantalla el segundo print, de esta forma nosotros podemos elegir que hacer y que no hacer segun una serie de condiciones.\n",
        "\n",
        "Ahora el ejercicio:\n",
        "\n",
        "De la siguientes variables: `variable_1 = 'hola soy el texo'`, `variable_2 = 'hola soy ana'`. Crear una lógica que si el texto no tiene el largo de 12 imprima en pantalla que su largo no es de 12, pero si coincide que imprima el texto directamente (probar con otras frases para chequear que funciona correctamente)"
      ],
      "metadata": {
        "id": "3mkXK3e0_KaN"
      }
    },
    {
      "cell_type": "code",
      "source": [
        "# Escribir codigo aquí"
      ],
      "metadata": {
        "id": "0bLNPO6rA5n3"
      },
      "execution_count": null,
      "outputs": []
    },
    {
      "cell_type": "markdown",
      "source": [
        "9 - Escribir un programa que si un texto no está completamente en mayusculas, lo transforme a mayusculas y lo imprima en pantalla pero que si por el contrario lo está solo imprima 'hecho', por ejemplo:\n",
        "\n",
        "\n",
        "```\n",
        "'LA motocicleta anda rapido'\n",
        "será\n",
        "'LA MOTOCICLETA ANDA RAPIDO'\n",
        "\n",
        "pero si ponemos \n",
        "'LA LLUVIA LLEGÓ'\n",
        "será\n",
        "'hecho'\n",
        "```\n",
        "\n",
        "\n"
      ],
      "metadata": {
        "id": "SfA3VceuBp8g"
      }
    },
    {
      "cell_type": "code",
      "source": [
        "# Escribir codigo aquí"
      ],
      "metadata": {
        "id": "anD_5RiEBpb0"
      },
      "execution_count": null,
      "outputs": []
    },
    {
      "cell_type": "markdown",
      "source": [
        "## Nivel Intermedio - Bucles, funciones y clases"
      ],
      "metadata": {
        "id": "oPZfD0egv1Mt"
      }
    },
    {
      "cell_type": "markdown",
      "source": [
        "1 - La función range() es una función que dado un numero entero nos fabrica una lista de numeros enteros comenzando por 0 hasta llegar al numero puesto, por ejemplo:\n",
        "\n",
        "`range(10) => [0,1,2,3,4,5,6,7,8,9]`\n",
        "\n",
        "Utilice esta funcion para imprimir en pantalla 17 veces la palabra 'Bucle' utilizando el bucle for y recordando que toda lista es un iterable."
      ],
      "metadata": {
        "id": "w1noSt3Qw0wB"
      }
    },
    {
      "cell_type": "code",
      "source": [
        "# Escribir codigo aquí"
      ],
      "metadata": {
        "id": "CZ68CSvayCz0"
      },
      "execution_count": null,
      "outputs": []
    },
    {
      "cell_type": "markdown",
      "source": [
        "2 - Dada la siguiente lista:\n",
        "\n",
        "`['marino','mar','algas','barco','timon','capitana','ave','pez']`\n",
        "\n",
        "Imprimir en pantalla el texto de cada item con el texto agregado de 'en el mar hay: ', por ejemplo, su usamos el item 'mar' quedará:\n",
        "```\n",
        "En el mar hay mar\n",
        "```\n",
        "Esto deberá ser hecho con un bucle for."
      ],
      "metadata": {
        "id": "BIqDLpWGyHjx"
      }
    },
    {
      "cell_type": "code",
      "source": [
        "# Escribir codigo aquí"
      ],
      "metadata": {
        "id": "fpSb04iDzDwm"
      },
      "execution_count": null,
      "outputs": []
    },
    {
      "cell_type": "markdown",
      "source": [
        "3 - Existe una función llamada \"input()\" la cual le pide al usuario que escriba una entrada (un texto) y lo podemos almacenar en una variable, por ejemplo:\n",
        "\n",
        "`texto_del_usuario = input()`\n",
        "\n",
        "De esta manera estaremos almacenando datos pedidos directamente al usuario. \n",
        "Con este nuevo conocimiento deberemos construir una lista de 5 elementos donde estos 5 elementos sean pedidos al usuario (considere que debermos pedir al usuario textos como por ejemplo la palabra \"lampara\"), para ello deberemos usar (sugerencia) el ciclo for, la funcion range y la funcion input."
      ],
      "metadata": {
        "id": "az_AbRTYzFbN"
      }
    },
    {
      "cell_type": "code",
      "source": [
        "# Escribir codigo aquí"
      ],
      "metadata": {
        "id": "SEUDBfOZ1DOi"
      },
      "execution_count": null,
      "outputs": []
    },
    {
      "cell_type": "markdown",
      "source": [
        "4 - Tomar la lista que el usuario insertó anteriormente e imprimirla en pantalla pero con las letras A en mayusculas"
      ],
      "metadata": {
        "id": "xw2_YhZA0efl"
      }
    },
    {
      "cell_type": "code",
      "source": [
        "# Escribir codigo aquí"
      ],
      "metadata": {
        "id": "Dig-CyqAzn0l"
      },
      "execution_count": null,
      "outputs": []
    },
    {
      "cell_type": "markdown",
      "source": [
        "5 - Cree una funcion que tome como parámetros dos numeros, los sume y nos devuelva el resultado"
      ],
      "metadata": {
        "id": "Buzhpt2jv-q2"
      }
    },
    {
      "cell_type": "code",
      "source": [
        "# Escribir codigo aquí"
      ],
      "metadata": {
        "id": "iT7gMPdLv7tx"
      },
      "execution_count": null,
      "outputs": []
    },
    {
      "cell_type": "markdown",
      "source": [
        "6 - Cree una funcion que convierta strings o textos en mayusculas, tiene que pedir un parámetro de entrada y su salida deberá ser el mismo texto en mayuscula.\n",
        "\n",
        "Ejemplo:\n",
        "\n",
        "\n",
        "```\n",
        "Entrada\n",
        "texto = 'hola soy el texto'\n",
        "\n",
        "Salida\n",
        "'HOLA SOY EL TEXTO'\n",
        "```\n",
        "\n"
      ],
      "metadata": {
        "id": "JvoRLL7awHl5"
      }
    },
    {
      "cell_type": "code",
      "source": [
        "# Escribir codigo aquí"
      ],
      "metadata": {
        "id": "MkeKrK7DwkrV"
      },
      "execution_count": null,
      "outputs": []
    },
    {
      "cell_type": "markdown",
      "source": [
        "7 - Cree una funcion que tome de parámetro dos listas de igual tamaño y las convierta en un diccionario, por ejemplo:\n",
        "\n",
        "```\n",
        "entrada\n",
        "lista_1 = [1,2,3];\n",
        "lista_2 = ['a','b','c'];\n",
        "\n",
        "salida\n",
        "{1:'a', 2:'b', 3:'c'}\n",
        "```\n",
        "\n"
      ],
      "metadata": {
        "id": "gc7fuK7IwnQE"
      }
    },
    {
      "cell_type": "code",
      "source": [
        "lista_1 = [1,2,3];\n",
        "lista_2 = ['a','b','c'];\n",
        "\n",
        "# Escribir codigo aquí"
      ],
      "metadata": {
        "id": "GJqyHkhT1wnu"
      },
      "execution_count": null,
      "outputs": []
    },
    {
      "cell_type": "markdown",
      "source": [
        "8 - Cree una función que le pida al usuario un numero de largo n y luego le pida esa cantidad de inputs para llenar una lista que luego retornará, ejemplo:\n",
        "\n",
        "\n",
        "```\n",
        "el usuario ingresa el numero 3\n",
        "la funcion me pide tres palabras\n",
        "la funcion devuelve la lista con las tres palabras\n",
        "['palabra_1', 'palabra_2' ,'palabra_3']\n",
        "```\n",
        "\n"
      ],
      "metadata": {
        "id": "m0SXZp-817Sm"
      }
    },
    {
      "cell_type": "code",
      "source": [
        "# Escribir codigo aquí"
      ],
      "metadata": {
        "id": "Okol0ZAS2aHy"
      },
      "execution_count": null,
      "outputs": []
    },
    {
      "cell_type": "markdown",
      "source": [
        "9 - Cree una función que pida al usuario una palabra y un numero y que posteriormente repita esa palabra la cantidad de veces que el numero indica, por ejemplo:\n",
        "\n",
        "```\n",
        "entrada\n",
        "3,'palabra'\n",
        "\n",
        "salida\n",
        "'palabra'\n",
        "'palabra'\n",
        "'palabra\n",
        "```\n",
        "\n"
      ],
      "metadata": {
        "id": "cL-rBeQT2cIq"
      }
    },
    {
      "cell_type": "code",
      "source": [
        "# Escribir codigo aquí"
      ],
      "metadata": {
        "id": "Q8FZQ5JC9zGe"
      },
      "execution_count": null,
      "outputs": []
    },
    {
      "cell_type": "markdown",
      "source": [
        "10 - Cree una clase llama auto, que tenga 3 atributos: marca, color y patente,\n",
        "luego cree 3 metodos (funciones) para el auto donde estos sean: arrancar, andar y detenerse.\n",
        "(en los metodos no hace falta hacer nada especial, con imprimir en pantalla alguna frase indicativa de la funcion, esta ok)"
      ],
      "metadata": {
        "id": "hAkWPclX95Ia"
      }
    },
    {
      "cell_type": "code",
      "source": [
        "# Escribir codigo aquí"
      ],
      "metadata": {
        "id": "qwwTkTf6-cK1"
      },
      "execution_count": null,
      "outputs": []
    },
    {
      "cell_type": "markdown",
      "source": [
        "## Nivel Avanzado - Librerias"
      ],
      "metadata": {
        "id": "KQLjmDkPCVG-"
      }
    },
    {
      "cell_type": "markdown",
      "source": [
        " **Paciencia y muuucho google en esta parte**"
      ],
      "metadata": {
        "id": "d4ct7mpKCqK7"
      }
    },
    {
      "cell_type": "markdown",
      "source": [
        "1 - Importar la libreria numpy y con ella generar una lista de 10 numeros al azar (investigar funciones)"
      ],
      "metadata": {
        "id": "wNp_yOgxCiJJ"
      }
    },
    {
      "cell_type": "code",
      "source": [
        "# Escribir codigo aquí"
      ],
      "metadata": {
        "id": "3flQvpcPCanR"
      },
      "execution_count": null,
      "outputs": []
    },
    {
      "cell_type": "markdown",
      "source": [
        "2 - Usando numpy crear una funcion que calcule la raiz cuadrada a una variable input y como resultado nos devuelva el resultado del calculo"
      ],
      "metadata": {
        "id": "nBUF5Z8QCzBl"
      }
    },
    {
      "cell_type": "code",
      "source": [
        "# Escribir codigo aquí"
      ],
      "metadata": {
        "id": "vHe1XgHZDLGq"
      },
      "execution_count": null,
      "outputs": []
    },
    {
      "cell_type": "markdown",
      "source": [
        "3 - Usando numpy crear un programa que genera una lista de 10 numeros aleatorios entre el 0 y el 1 y luego imprimir en pantalla solo aquellos mayores o iguales a 0,5"
      ],
      "metadata": {
        "id": "IKIgN-O3DMG8"
      }
    },
    {
      "cell_type": "code",
      "source": [
        "# Escribir codigo aquí"
      ],
      "metadata": {
        "id": "6sqvjFE1DwtY"
      },
      "execution_count": null,
      "outputs": []
    },
    {
      "cell_type": "markdown",
      "source": [
        "4 - Importar la libreria pandas y lograr transformar un archivo csv a dataframe de pandas (para esto van a tener que investigar como subir un archivo a colab o si lo ejecutan en local como hacer para que pandas lo lea, una ayuda es que está hecho para colab en lo subido de la capacitación). El archivo csv lo voy a dejar en github en la carpeta principal para que lo puedan descargar"
      ],
      "metadata": {
        "id": "XFWHFoCMDyp6"
      }
    },
    {
      "cell_type": "code",
      "source": [
        "# Escribir codigo aquí"
      ],
      "metadata": {
        "id": "sn_1WBK8EGvM"
      },
      "execution_count": null,
      "outputs": []
    },
    {
      "cell_type": "markdown",
      "source": [
        "5 - Utilizando el dataframe anteriormente subido imprimir en pantalla los nombres de las columnas utilizadas en ese dataframe"
      ],
      "metadata": {
        "id": "Jq1a5cfBEGFb"
      }
    },
    {
      "cell_type": "code",
      "source": [
        "# Escribir codigo aquí"
      ],
      "metadata": {
        "id": "u1WvABG2EWg9"
      },
      "execution_count": null,
      "outputs": []
    },
    {
      "cell_type": "markdown",
      "source": [
        "6 - Utilizando el dataframe anteriormente subido imprimir en pantalla solamente las desviaciones estandar o std de las columnas numéricas"
      ],
      "metadata": {
        "id": "r-CoBZ0-EXz_"
      }
    },
    {
      "cell_type": "code",
      "source": [
        "# Escribir codigo aquí"
      ],
      "metadata": {
        "id": "lfwqBUbNEthx"
      },
      "execution_count": null,
      "outputs": []
    },
    {
      "cell_type": "markdown",
      "source": [
        "7 - Utilizando pandas obtener los diferentes valores que existen en la columna `\"organizacion\"`"
      ],
      "metadata": {
        "id": "zEEWFMeYEuia"
      }
    },
    {
      "cell_type": "code",
      "source": [
        "# Escribir codigo aquí"
      ],
      "metadata": {
        "id": "19a41ESCGVev"
      },
      "execution_count": null,
      "outputs": []
    },
    {
      "cell_type": "markdown",
      "source": [
        "8 - Contar la cantidad de filas que tiene el dataframe"
      ],
      "metadata": {
        "id": "PbA9s2YWGXiY"
      }
    },
    {
      "cell_type": "code",
      "source": [
        "# Escribir codigo aquí"
      ],
      "metadata": {
        "id": "uYoaheyDHC0T"
      },
      "execution_count": null,
      "outputs": []
    },
    {
      "cell_type": "markdown",
      "source": [
        "9 - Utilizando pandas y logica de programación, contar cuantas veces aparece la organización llamada \"organización para pruebas de soporte\""
      ],
      "metadata": {
        "id": "O6040OTvHD9c"
      }
    },
    {
      "cell_type": "code",
      "source": [
        "# Escribir codigo aquí"
      ],
      "metadata": {
        "id": "SpClTEwWHhvU"
      },
      "execution_count": null,
      "outputs": []
    },
    {
      "cell_type": "markdown",
      "source": [
        "10 - Utilizando la libreria missingno visualizar en pantalla los datos faltantes y las correlaciones entre los datos que faltan, ¿existe alguna correlación negativa?"
      ],
      "metadata": {
        "id": "DCnzEyJMHlwh"
      }
    }
  ]
}